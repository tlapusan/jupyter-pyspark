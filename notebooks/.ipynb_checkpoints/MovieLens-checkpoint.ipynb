{
 "cells": [
  {
   "cell_type": "code",
   "execution_count": 1,
   "metadata": {},
   "outputs": [],
   "source": [
    "import findspark\n",
    "findspark.init()"
   ]
  },
  {
   "cell_type": "code",
   "execution_count": 33,
   "metadata": {},
   "outputs": [],
   "source": [
    "from pyspark import SparkContext, SparkConf\n",
    "from pyspark.sql import SQLContext\n",
    "from pyspark.sql.types import StructType, StructField, StringType, IntegerType, DoubleType, LongType\n",
    "from pyspark.sql.functions import * "
   ]
  },
  {
   "cell_type": "markdown",
   "metadata": {},
   "source": [
    "### Initialize SparkContext and SqlContext"
   ]
  },
  {
   "cell_type": "code",
   "execution_count": 3,
   "metadata": {},
   "outputs": [],
   "source": [
    "sparkConf = SparkConf().setAppName(\"MovieLens\").setMaster(\"local[4]\")\n",
    "sc = SparkContext(conf=sparkConf)\n",
    "sqlContext = SQLContext(sc)"
   ]
  },
  {
   "cell_type": "markdown",
   "metadata": {},
   "source": [
    "### Define DataFrame schemas"
   ]
  },
  {
   "cell_type": "code",
   "execution_count": 5,
   "metadata": {},
   "outputs": [],
   "source": [
    "movieSchema = StructType([StructField(\"movieId\", IntegerType(), False),\n",
    "                         StructField(\"title\", StringType(), True),\n",
    "                         StructField(\"genres\", StringType(), True)])\n",
    "ratingSchema = StructType([StructField(\"userId\", IntegerType(), False),\n",
    "                          StructField(\"movieId\", IntegerType(), False),\n",
    "                          StructField(\"rating\", DoubleType(), False),\n",
    "                          StructField(\"timestamp\", LongType(), True)])\n",
    "userSchema = StructType([StructField(\"userId\", IntegerType(), False),\n",
    "                        StructField(\"gender\", StringType(), True),\n",
    "                        StructField(\"age\", IntegerType(), True),\n",
    "                        StructField(\"occupation\", IntegerType(), True),\n",
    "                        StructField(\"zipcode\", LongType(), True)])"
   ]
  },
  {
   "cell_type": "markdown",
   "metadata": {},
   "source": [
    "### Read DataFrames"
   ]
  },
  {
   "cell_type": "code",
   "execution_count": 6,
   "metadata": {},
   "outputs": [],
   "source": [
    "movieDF = sqlContext.read.option(\"delimiter\", \":\").schema(movieSchema).csv(\"/jupyter/data/ml-1m/movies.dat\")\n",
    "ratingDF = sqlContext.read.option(\"delimiter\", \":\").schema(ratingSchema).csv(\"/jupyter/data/ml-1m/ratings.dat\")\n",
    "userDF = sqlContext.read.option(\"delimiter\", \":\").schema(userSchema).csv(\"/jupyter/data/ml-1m/users.dat\")\n",
    "            "
   ]
  },
  {
   "cell_type": "markdown",
   "metadata": {},
   "source": [
    "### Register DataFrame as tables"
   ]
  },
  {
   "cell_type": "code",
   "execution_count": 20,
   "metadata": {},
   "outputs": [],
   "source": [
    "movieDF.registerTempTable(\"movieTable\")\n",
    "ratingDF.registerTempTable(\"ratingTable\")\n",
    "userDF.registerTempTable(\"userTable\")"
   ]
  },
  {
   "cell_type": "markdown",
   "metadata": {},
   "source": [
    "### Check DataFrame schemas"
   ]
  },
  {
   "cell_type": "code",
   "execution_count": 7,
   "metadata": {},
   "outputs": [
    {
     "name": "stdout",
     "output_type": "stream",
     "text": [
      "root\n",
      " |-- movieId: integer (nullable = true)\n",
      " |-- title: string (nullable = true)\n",
      " |-- genres: string (nullable = true)\n",
      "\n",
      "root\n",
      " |-- userId: integer (nullable = true)\n",
      " |-- movieId: integer (nullable = true)\n",
      " |-- rating: double (nullable = true)\n",
      " |-- timestamp: long (nullable = true)\n",
      "\n",
      "root\n",
      " |-- userId: integer (nullable = true)\n",
      " |-- gender: string (nullable = true)\n",
      " |-- age: integer (nullable = true)\n",
      " |-- occupation: integer (nullable = true)\n",
      " |-- zipcode: long (nullable = true)\n",
      "\n"
     ]
    }
   ],
   "source": [
    "# check why nullable is not set\n",
    "movieDF.printSchema()\n",
    "# todo check for the others dataframes\n",
    "ratingDF.printSchema()\n",
    "userDF.printSchema()"
   ]
  },
  {
   "cell_type": "markdown",
   "metadata": {},
   "source": [
    "### Visualize DataFrames/tables"
   ]
  },
  {
   "cell_type": "markdown",
   "metadata": {},
   "source": [
    "##### using DataFrame API (DSL)"
   ]
  },
  {
   "cell_type": "code",
   "execution_count": 15,
   "metadata": {},
   "outputs": [
    {
     "name": "stdout",
     "output_type": "stream",
     "text": [
      "+-------+----------------------------------+----------------------------+\n",
      "|movieId|title                             |genres                      |\n",
      "+-------+----------------------------------+----------------------------+\n",
      "|1      |Toy Story (1995)                  |Animation|Children's|Comedy |\n",
      "|2      |Jumanji (1995)                    |Adventure|Children's|Fantasy|\n",
      "|3      |Grumpier Old Men (1995)           |Comedy|Romance              |\n",
      "|4      |Waiting to Exhale (1995)          |Comedy|Drama                |\n",
      "|5      |Father of the Bride Part II (1995)|Comedy                      |\n",
      "|6      |Heat (1995)                       |Action|Crime|Thriller       |\n",
      "|7      |Sabrina (1995)                    |Comedy|Romance              |\n",
      "|8      |Tom and Huck (1995)               |Adventure|Children's        |\n",
      "|9      |Sudden Death (1995)               |Action                      |\n",
      "|10     |GoldenEye (1995)                  |Action|Adventure|Thriller   |\n",
      "+-------+----------------------------------+----------------------------+\n",
      "only showing top 10 rows\n",
      "\n"
     ]
    }
   ],
   "source": [
    "movieDF.show(10, False)"
   ]
  },
  {
   "cell_type": "code",
   "execution_count": 18,
   "metadata": {},
   "outputs": [],
   "source": [
    "# show method docs \n",
    "movieDF.show?"
   ]
  },
  {
   "cell_type": "markdown",
   "metadata": {},
   "source": [
    "##### using Spark SQL"
   ]
  },
  {
   "cell_type": "code",
   "execution_count": 23,
   "metadata": {
    "scrolled": true
   },
   "outputs": [
    {
     "name": "stdout",
     "output_type": "stream",
     "text": [
      "+-------+--------------------+--------------------+\n",
      "|movieId|               title|              genres|\n",
      "+-------+--------------------+--------------------+\n",
      "|      1|    Toy Story (1995)|Animation|Childre...|\n",
      "|      2|      Jumanji (1995)|Adventure|Childre...|\n",
      "|      3|Grumpier Old Men ...|      Comedy|Romance|\n",
      "|      4|Waiting to Exhale...|        Comedy|Drama|\n",
      "|      5|Father of the Bri...|              Comedy|\n",
      "|      6|         Heat (1995)|Action|Crime|Thri...|\n",
      "|      7|      Sabrina (1995)|      Comedy|Romance|\n",
      "|      8| Tom and Huck (1995)|Adventure|Children's|\n",
      "|      9| Sudden Death (1995)|              Action|\n",
      "|     10|    GoldenEye (1995)|Action|Adventure|...|\n",
      "+-------+--------------------+--------------------+\n",
      "\n"
     ]
    }
   ],
   "source": [
    "sqlContext.sql(\"select * from movieTable limit 10\").show()"
   ]
  },
  {
   "cell_type": "markdown",
   "metadata": {},
   "source": [
    "### Number of users"
   ]
  },
  {
   "cell_type": "code",
   "execution_count": 49,
   "metadata": {},
   "outputs": [
    {
     "data": {
      "text/plain": [
       "6040"
      ]
     },
     "execution_count": 49,
     "metadata": {},
     "output_type": "execute_result"
    }
   ],
   "source": [
    "userDF.count()"
   ]
  },
  {
   "cell_type": "code",
   "execution_count": 51,
   "metadata": {
    "scrolled": true
   },
   "outputs": [
    {
     "name": "stdout",
     "output_type": "stream",
     "text": [
      "+--------+\n",
      "|count(1)|\n",
      "+--------+\n",
      "|    6040|\n",
      "+--------+\n",
      "\n"
     ]
    }
   ],
   "source": [
    "sqlContext.sql(\"select count(*) from userTable\").show()"
   ]
  },
  {
   "cell_type": "markdown",
   "metadata": {},
   "source": [
    "##### TODO : same queries for the others dataframes"
   ]
  },
  {
   "cell_type": "code",
   "execution_count": null,
   "metadata": {},
   "outputs": [],
   "source": []
  },
  {
   "cell_type": "markdown",
   "metadata": {},
   "source": [
    "### Gender distribution"
   ]
  },
  {
   "cell_type": "code",
   "execution_count": 56,
   "metadata": {},
   "outputs": [
    {
     "name": "stdout",
     "output_type": "stream",
     "text": [
      "+------+-----+\n",
      "|gender|count|\n",
      "+------+-----+\n",
      "|     F| 1709|\n",
      "|     M| 4331|\n",
      "+------+-----+\n",
      "\n"
     ]
    }
   ],
   "source": [
    "userDF.groupBy(col(\"gender\")).count().show()"
   ]
  },
  {
   "cell_type": "markdown",
   "metadata": {},
   "source": [
    "#### TODO : sql version"
   ]
  },
  {
   "cell_type": "markdown",
   "metadata": {},
   "source": [
    "### TODO : Age distribution using DSL and SQL"
   ]
  },
  {
   "cell_type": "code",
   "execution_count": 58,
   "metadata": {},
   "outputs": [
    {
     "name": "stdout",
     "output_type": "stream",
     "text": [
      "+---+-----+\n",
      "|age|count|\n",
      "+---+-----+\n",
      "|  1|  222|\n",
      "| 35| 1193|\n",
      "| 50|  496|\n",
      "| 45|  550|\n",
      "| 25| 2096|\n",
      "| 56|  380|\n",
      "| 18| 1103|\n",
      "+---+-----+\n",
      "\n"
     ]
    }
   ],
   "source": [
    "userDF.groupBy(col(\"age\")).count().show()"
   ]
  },
  {
   "cell_type": "markdown",
   "metadata": {},
   "source": [
    "### Number of users with age = 25 "
   ]
  },
  {
   "cell_type": "code",
   "execution_count": 39,
   "metadata": {
    "scrolled": false
   },
   "outputs": [
    {
     "data": {
      "text/plain": [
       "DataFrame[userId: int, gender: string, age: int, occupation: int, zipcode: bigint]"
      ]
     },
     "execution_count": 39,
     "metadata": {},
     "output_type": "execute_result"
    }
   ],
   "source": [
    "userDF.where(col(\"age\") == 25).count()"
   ]
  },
  {
   "cell_type": "markdown",
   "metadata": {},
   "source": [
    "##### TODO : sql version"
   ]
  },
  {
   "cell_type": "markdown",
   "metadata": {},
   "source": [
    "### Gender distribution for users = 25"
   ]
  },
  {
   "cell_type": "code",
   "execution_count": 41,
   "metadata": {
    "scrolled": true
   },
   "outputs": [
    {
     "name": "stdout",
     "output_type": "stream",
     "text": [
      "+------+-----+\n",
      "|gender|count|\n",
      "+------+-----+\n",
      "|     F|  558|\n",
      "|     M| 1538|\n",
      "+------+-----+\n",
      "\n"
     ]
    }
   ],
   "source": [
    "userDF.where(col(\"age\") == 25).groupBy(col(\"gender\")).count().show()"
   ]
  },
  {
   "cell_type": "markdown",
   "metadata": {},
   "source": [
    "##### TODO : sql version"
   ]
  },
  {
   "cell_type": "code",
   "execution_count": null,
   "metadata": {},
   "outputs": [],
   "source": []
  },
  {
   "cell_type": "markdown",
   "metadata": {},
   "source": [
    "### Number of ratings of each user displayed in desc order"
   ]
  },
  {
   "cell_type": "code",
   "execution_count": 44,
   "metadata": {},
   "outputs": [
    {
     "name": "stdout",
     "output_type": "stream",
     "text": [
      "+------+-----+\n",
      "|userId|count|\n",
      "+------+-----+\n",
      "|  4169| 2314|\n",
      "|  1680| 1850|\n",
      "|  4277| 1743|\n",
      "|  1941| 1595|\n",
      "|  1181| 1521|\n",
      "|   889| 1518|\n",
      "|  3618| 1344|\n",
      "|  2063| 1323|\n",
      "|  1150| 1302|\n",
      "|  1015| 1286|\n",
      "|  5795| 1277|\n",
      "|  4344| 1271|\n",
      "|  1980| 1260|\n",
      "|  2909| 1258|\n",
      "|  1449| 1243|\n",
      "|  4510| 1240|\n",
      "|   424| 1226|\n",
      "|  4227| 1222|\n",
      "|  5831| 1220|\n",
      "|  3841| 1216|\n",
      "+------+-----+\n",
      "only showing top 20 rows\n",
      "\n"
     ]
    }
   ],
   "source": [
    "ratingDF.groupBy(col(\"userId\")).count().orderBy(col(\"count\").desc()).show()"
   ]
  },
  {
   "cell_type": "markdown",
   "metadata": {},
   "source": [
    "##### TODO : sql version"
   ]
  },
  {
   "cell_type": "code",
   "execution_count": null,
   "metadata": {},
   "outputs": [],
   "source": []
  },
  {
   "cell_type": "markdown",
   "metadata": {},
   "source": [
    "### Avg rating for each movie"
   ]
  },
  {
   "cell_type": "code",
   "execution_count": 57,
   "metadata": {},
   "outputs": [
    {
     "name": "stdout",
     "output_type": "stream",
     "text": [
      "+-------+------------------+\n",
      "|movieId|        avg_rating|\n",
      "+-------+------------------+\n",
      "|   1580| 3.739952718676123|\n",
      "|   2366|3.6560846560846563|\n",
      "|   1088|3.3114992721979624|\n",
      "|   1959|3.6533546325878596|\n",
      "|   3175| 3.771412037037037|\n",
      "|   1645|3.4358353510895885|\n",
      "|    496|3.2162162162162162|\n",
      "|   2142|2.8308457711442787|\n",
      "|   1591|2.6210526315789475|\n",
      "|   2122|2.4463519313304722|\n",
      "|    833|2.1794871794871793|\n",
      "|    463|  2.74468085106383|\n",
      "|    471| 3.631051752921536|\n",
      "|   1342| 2.904580152671756|\n",
      "|    148| 2.782608695652174|\n",
      "|   3918| 2.802395209580838|\n",
      "|   3794|  3.28099173553719|\n",
      "|   1238|               4.0|\n",
      "|   2866|3.6884422110552766|\n",
      "|   3749|3.1363636363636362|\n",
      "+-------+------------------+\n",
      "only showing top 20 rows\n",
      "\n"
     ]
    }
   ],
   "source": [
    "ratingDF.groupBy(col(\"movieId\")).agg(avg(col(\"rating\")).alias(\"avg_rating\")).show()"
   ]
  },
  {
   "cell_type": "markdown",
   "metadata": {},
   "source": [
    "##### TODO : sort movies by avg rating value"
   ]
  },
  {
   "cell_type": "code",
   "execution_count": 74,
   "metadata": {
    "scrolled": true
   },
   "outputs": [
    {
     "name": "stdout",
     "output_type": "stream",
     "text": [
      "+-------+-----------------+\n",
      "|movieId|       avg_rating|\n",
      "+-------+-----------------+\n",
      "|   3881|              5.0|\n",
      "|   3382|              5.0|\n",
      "|   3280|              5.0|\n",
      "|   3172|              5.0|\n",
      "|   1830|              5.0|\n",
      "|    787|              5.0|\n",
      "|   3233|              5.0|\n",
      "|   3656|              5.0|\n",
      "|    989|              5.0|\n",
      "|   3607|              5.0|\n",
      "|   3245|              4.8|\n",
      "|     53|             4.75|\n",
      "|   2503|4.666666666666667|\n",
      "|   2905|4.608695652173913|\n",
      "|   2019|4.560509554140127|\n",
      "|    318|4.554557700942973|\n",
      "|    858|4.524966261808367|\n",
      "|    745| 4.52054794520548|\n",
      "|     50|4.517106001121705|\n",
      "|    527|4.510416666666667|\n",
      "+-------+-----------------+\n",
      "only showing top 20 rows\n",
      "\n"
     ]
    }
   ],
   "source": [
    "ratingDF.groupBy(col(\"movieId\")).agg(avg(col(\"rating\")).alias(\"avg_rating\")).orderBy(col(\"avg_rating\").desc()).show()"
   ]
  },
  {
   "cell_type": "code",
   "execution_count": null,
   "metadata": {},
   "outputs": [],
   "source": []
  },
  {
   "cell_type": "markdown",
   "metadata": {},
   "source": [
    "### Join between rating and movie DataFrames on movieId column"
   ]
  },
  {
   "cell_type": "code",
   "execution_count": 81,
   "metadata": {},
   "outputs": [
    {
     "name": "stdout",
     "output_type": "stream",
     "text": [
      "+------+-------+------+---------+-------+--------------------+--------------------+\n",
      "|userId|movieId|rating|timestamp|movieId|               title|              genres|\n",
      "+------+-------+------+---------+-------+--------------------+--------------------+\n",
      "|     1|   1193|   5.0|978300760|   1193|One Flew Over the...|               Drama|\n",
      "|     1|    661|   3.0|978302109|    661|James and the Gia...|Animation|Childre...|\n",
      "|     1|    914|   3.0|978301968|    914| My Fair Lady (1964)|     Musical|Romance|\n",
      "|     1|   3408|   4.0|978300275|   3408|Erin Brockovich (...|               Drama|\n",
      "|     1|   2355|   5.0|978824291|   2355|Bug's Life, A (1998)|Animation|Childre...|\n",
      "|     1|   1197|   3.0|978302268|   1197|Princess Bride, T...|Action|Adventure|...|\n",
      "|     1|   1287|   5.0|978302039|   1287|      Ben-Hur (1959)|Action|Adventure|...|\n",
      "|     1|   2804|   5.0|978300719|   2804|Christmas Story, ...|        Comedy|Drama|\n",
      "|     1|    594|   4.0|978302268|    594|Snow White and th...|Animation|Childre...|\n",
      "|     1|    919|   4.0|978301368|    919|Wizard of Oz, The...|Adventure|Childre...|\n",
      "|     1|    595|   5.0|978824268|    595|Beauty and the Be...|Animation|Childre...|\n",
      "|     1|    938|   4.0|978301752|    938|         Gigi (1958)|             Musical|\n",
      "|     1|   2398|   4.0|978302281|   2398|Miracle on 34th S...|               Drama|\n",
      "|     1|   2918|   4.0|978302124|   2918|Ferris Bueller's ...|              Comedy|\n",
      "|     1|   1035|   5.0|978301753|   1035|Sound of Music, T...|             Musical|\n",
      "|     1|   2791|   4.0|978302188|   2791|    Airplane! (1980)|              Comedy|\n",
      "|     1|   2687|   3.0|978824268|   2687|       Tarzan (1999)|Animation|Children's|\n",
      "|     1|   2018|   4.0|978301777|   2018|        Bambi (1942)|Animation|Children's|\n",
      "|     1|   3105|   5.0|978301713|   3105|   Awakenings (1990)|               Drama|\n",
      "|     1|   2797|   4.0|978302039|   2797|          Big (1988)|      Comedy|Fantasy|\n",
      "+------+-------+------+---------+-------+--------------------+--------------------+\n",
      "only showing top 20 rows\n",
      "\n"
     ]
    }
   ],
   "source": [
    "ratingDF.join(movieDF, ratingDF.movieId == movieDF.movieId).show()"
   ]
  },
  {
   "cell_type": "code",
   "execution_count": null,
   "metadata": {},
   "outputs": [],
   "source": []
  },
  {
   "cell_type": "code",
   "execution_count": 12,
   "metadata": {},
   "outputs": [],
   "source": [
    "sc.stop()a"
   ]
  },
  {
   "cell_type": "code",
   "execution_count": null,
   "metadata": {},
   "outputs": [],
   "source": []
  }
 ],
 "metadata": {
  "anaconda-cloud": {},
  "kernelspec": {
   "display_name": "Python 2",
   "language": "python",
   "name": "python2"
  },
  "language_info": {
   "codemirror_mode": {
    "name": "ipython",
    "version": 2
   },
   "file_extension": ".py",
   "mimetype": "text/x-python",
   "name": "python",
   "nbconvert_exporter": "python",
   "pygments_lexer": "ipython2",
   "version": "2.7.12"
  }
 },
 "nbformat": 4,
 "nbformat_minor": 2
}
